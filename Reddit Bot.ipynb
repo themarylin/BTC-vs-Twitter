{
 "cells": [
  {
   "cell_type": "code",
   "execution_count": 78,
   "metadata": {},
   "outputs": [],
   "source": [
    "import praw\n"
   ]
  },
  {
   "cell_type": "code",
   "execution_count": null,
   "metadata": {},
   "outputs": [],
   "source": []
  },
  {
   "cell_type": "raw",
   "metadata": {},
   "source": [
    "    "
   ]
  },
  {
   "cell_type": "code",
   "execution_count": 77,
   "metadata": {},
   "outputs": [
    {
     "name": "stdout",
     "output_type": "stream",
     "text": [
      "Title; Got my hands on the Bitcoin Buckaroo Brew bottle here at the Bitcoin Rodeo in Calgary, first time my Cryptopop art has appeared on a beer :D, ups:482,down0\n",
      "Title; Went cave exploring recently, and I think I found the ghost of a dead cryptocurrency! Take a listen?!?, ups:965,down0\n",
      "Title; Lightning network capacity is now over 52 BTC. A 70% increase over the last week. Mostly due to one node who now has 16 BTC alone., ups:124,down0\n",
      "Title; Ledger launches Ledger Live, the all-in-one companion app to your Ledger device, ups:191,down0\n",
      "Title; Major Futures Exchange CBOE Files For Bitcoin ETF, Increasing Probability of Approval, ups:61,down0\n",
      "Title; British BMW is Going to Accept Bitcoin Payments Through BitPay, ups:85,down0\n",
      "Title; Antique store in Kazan, Russia., ups:20,down0\n",
      "Title; I think it's time for bitcoin developers join forces together with Berners-Lee, the creator of WWW: \"The idea is simple: re-decentralize the Web.\", ups:51,down0\n"
     ]
    }
   ],
   "source": [
    "reddit = praw.Reddit(client_id='9jDKRXbGM0ksjw',\n",
    "                     client_secret='PcEL_gOaWZfsVUCx-9xY-t7JBaw',\n",
    "                     password='Bitcoin12!',\n",
    "                     user_agent='testscript by /u/fakebot3',\n",
    "                     username='eric_elizarraraz')\n",
    "\n",
    "subreddit = reddit.subreddit('bitcoin')\n",
    "hot_python = subreddit.hot(limit=10)\n",
    "\n",
    "for submission in hot_python:\n",
    "    if not submission.stickied:\n",
    "        print('Title; {}, ups:{},down{}'.format(submission.title,submission.ups,submission.downs))\n",
    "\n",
    "#for top_level_comment in submission.comments:\n",
    "    #print(top_level_comment.body)"
   ]
  },
  {
   "cell_type": "code",
   "execution_count": null,
   "metadata": {},
   "outputs": [],
   "source": []
  },
  {
   "cell_type": "code",
   "execution_count": 59,
   "metadata": {},
   "outputs": [],
   "source": []
  },
  {
   "cell_type": "code",
   "execution_count": null,
   "metadata": {},
   "outputs": [],
   "source": []
  }
 ],
 "metadata": {
  "kernelspec": {
   "display_name": "Python 3",
   "language": "python",
   "name": "python3"
  },
  "language_info": {
   "codemirror_mode": {
    "name": "ipython",
    "version": 3
   },
   "file_extension": ".py",
   "mimetype": "text/x-python",
   "name": "python",
   "nbconvert_exporter": "python",
   "pygments_lexer": "ipython3",
   "version": "3.6.4"
  }
 },
 "nbformat": 4,
 "nbformat_minor": 2
}
