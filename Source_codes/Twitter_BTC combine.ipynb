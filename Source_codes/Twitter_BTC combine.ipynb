{
 "cells": [
  {
   "cell_type": "markdown",
   "metadata": {},
   "source": [
    "# Twitter sentiment vs BTC USD "
   ]
  },
  {
   "cell_type": "markdown",
   "metadata": {},
   "source": [
    "## Import Dependencies"
   ]
  },
  {
   "cell_type": "code",
   "execution_count": 1,
   "metadata": {},
   "outputs": [],
   "source": [
    "%matplotlib notebook"
   ]
  },
  {
   "cell_type": "code",
   "execution_count": 2,
   "metadata": {},
   "outputs": [],
   "source": [
    "from config import (consumer_key, consumer_secret, access_token, access_token_secret)"
   ]
  },
  {
   "cell_type": "code",
   "execution_count": 3,
   "metadata": {},
   "outputs": [],
   "source": [
    "import  matplotlib.pyplot  as plt\n",
    "import pandas as pd\n",
    "import numpy as np\n",
    "import tweepy\n",
    "import json\n",
    "import datetime\n",
    "import time\n",
    "import pprint as pprint\n",
    "import requests\n",
    "import json\n",
    "import sklearn.preprocessing as skl\n",
    "\n",
    "\n",
    "from vaderSentiment.vaderSentiment import SentimentIntensityAnalyzer\n",
    "analyzer = SentimentIntensityAnalyzer()"
   ]
  },
  {
   "cell_type": "markdown",
   "metadata": {},
   "source": [
    "## Using mini-api for cryptocurrency for price changes"
   ]
  },
  {
   "cell_type": "code",
   "execution_count": 4,
   "metadata": {},
   "outputs": [
    {
     "name": "stdout",
     "output_type": "stream",
     "text": [
      "https://min-api.cryptocompare.com/data/histominute?fsym=BTC&tsym=GBP&limit=95\n"
     ]
    }
   ],
   "source": [
    "url = \"https://min-api.cryptocompare.com/data/histominute?fsym=BTC&tsym=GBP&limit=95\"\n",
    "response = requests.get(url)\n",
    "print(response.url)"
   ]
  },
  {
   "cell_type": "markdown",
   "metadata": {},
   "source": [
    "## Create Twitter Authorization"
   ]
  },
  {
   "cell_type": "code",
   "execution_count": 5,
   "metadata": {},
   "outputs": [],
   "source": [
    "auth = tweepy.OAuthHandler(consumer_key, consumer_secret)\n",
    "auth.set_access_token(access_token, access_token_secret)\n",
    "api = tweepy.API(auth, parser=tweepy.parsers.JSONParser())"
   ]
  },
  {
   "cell_type": "markdown",
   "metadata": {},
   "source": [
    "## Create module to run for twitter sentiments"
   ]
  },
  {
   "cell_type": "code",
   "execution_count": 6,
   "metadata": {},
   "outputs": [],
   "source": [
    "def twitter_search():\n",
    "    \n",
    "    public_tweets = api.search('BTCUSD', count=96, result_type=\"recent\")\n",
    "        \n",
    "        # Loop through all tweets\n",
    "    for tweet in public_tweets['statuses']:\n",
    "    \n",
    "           # Run Vader Analysis on each tweet\n",
    "        results = analyzer.polarity_scores(tweet[\"text\"])\n",
    "        compound = results[\"compound\"]\n",
    "        pos = results[\"pos\"]\n",
    "        neu = results[\"neu\"]\n",
    "        neg = results[\"neg\"]\n",
    "    \n",
    "            # Add each value to the appropriate list\n",
    "        compound_list.append(compound)\n",
    "        positive_list.append(pos)\n",
    "        negative_list.append(neg)\n",
    "        neutral_list.append(neu)\n",
    "        \n",
    "        sentiments.append({\"Date\": tweet[\"created_at\"], \n",
    "                           \"Compound\": compound,\n",
    "                           \"Positive\": pos,\n",
    "                           \"Negative\": neu,\n",
    "                           \"Neutral\": neg,\n",
    "                           \"Text\": tweet['text'],\n",
    "                           })\n",
    "            \n",
    "        time = tweet['created_at']\n",
    "        convert_time(time)\n",
    "            \n",
    "    #plt.plot(np.arange(len(compound_list)), compound_list)\n",
    "    #plt.title(f\"Sentiment Analysis of Tweets\")\n",
    "    #plt.ylabel(\"Tweet Polarity\")\n",
    "    #plt.xlabel(\"Time stamp\")\n",
    "    #plt.xticks(rotation = 'vertical')\n",
    "    #plt.tight_layout()\n",
    "    #plt.savefig('../Output/Sentiment_Analysis')"
   ]
  },
  {
   "cell_type": "markdown",
   "metadata": {},
   "source": [
    "## Create Module to convert time stamp"
   ]
  },
  {
   "cell_type": "code",
   "execution_count": 7,
   "metadata": {},
   "outputs": [],
   "source": [
    "def convert_time (time):\n",
    "    time = datetime.datetime.strptime(time, \"%a %b %d %H:%M:%S %z %Y\").timestamp()\n",
    "    time = datetime.datetime.fromtimestamp(time).strftime('%Y-%m-%d %H:%M:%S')\n",
    "    time_stamp.append(time)"
   ]
  },
  {
   "cell_type": "markdown",
   "metadata": {},
   "source": [
    "## Create module for recent 7 day price change"
   ]
  },
  {
   "cell_type": "code",
   "execution_count": 8,
   "metadata": {},
   "outputs": [],
   "source": [
    "def refresh_price():\n",
    "    Timestamp = []\n",
    "    Close = []\n",
    "    converted_time = []\n",
    "    #extract timestamp and USD price from json\n",
    "    data = response.json()\n",
    "    #pprint(data)\n",
    "    for x in data['Data']:\n",
    "        Timestamp.append(x['time'])\n",
    "        Close.append(x['close'])\n",
    "    \n",
    "    #create data frame from file and then add a converted timestamp column to df\n",
    "    for each in Timestamp:\n",
    "        converted_time.append(str(each))\n",
    "        \n",
    "    price_by_minute = [('Timestamp', Timestamp),('Close',Close), ('Converted Time',converted_time)]\n",
    "    btc_prices = pd.DataFrame.from_items(price_by_minute)\n",
    "    btc_prices['Converted Time'] = pd.to_datetime(btc_prices['Timestamp'], unit = 's')\n",
    "    btc_prices.set_index(['Converted Time'], inplace = True)\n",
    "    \n",
    "    #normalize prices\n",
    "    btc_norm = skl.normalize(btc_prices['Close'].values.reshape(-1,1), axis = 0, norm = 'l1')\n",
    "\n",
    "    #create plot\n",
    "    plt.plot(np.arange(len(compound_list)), btc_norm)\n",
    "    plt.plot(np.arange(len(compound_list)), compound_list)\n",
    "    plt.xlabel('Date')\n",
    "    plt.ylabel('USD')\n",
    "    plt.xticks(rotation = 'vertical')\n",
    "    plt.tight_layout()\n",
    "    plt.show()\n",
    "    plt.savefig('../Output/btc_mostrecentSeven.png')"
   ]
  },
  {
   "cell_type": "code",
   "execution_count": 9,
   "metadata": {
    "scrolled": true
   },
   "outputs": [
    {
     "data": {
      "text/plain": [
       "<function __main__.refresh_price>"
      ]
     },
     "execution_count": 9,
     "metadata": {},
     "output_type": "execute_result"
    }
   ],
   "source": [
    "compound_list = []\n",
    "positive_list = []\n",
    "neutral_list = []\n",
    "negative_list = []\n",
    "sentiments = []\n",
    "time_stamp = []\n",
    "    \n",
    "twitter_search()\n",
    "refresh_price"
   ]
  },
  {
   "cell_type": "code",
   "execution_count": 14,
   "metadata": {},
   "outputs": [
    {
     "data": {
      "text/html": [
       "<div>\n",
       "<style scoped>\n",
       "    .dataframe tbody tr th:only-of-type {\n",
       "        vertical-align: middle;\n",
       "    }\n",
       "\n",
       "    .dataframe tbody tr th {\n",
       "        vertical-align: top;\n",
       "    }\n",
       "\n",
       "    .dataframe thead th {\n",
       "        text-align: right;\n",
       "    }\n",
       "</style>\n",
       "<table border=\"1\" class=\"dataframe\">\n",
       "  <thead>\n",
       "    <tr style=\"text-align: right;\">\n",
       "      <th></th>\n",
       "      <th>Compound</th>\n",
       "      <th>Negative</th>\n",
       "      <th>Neutral</th>\n",
       "      <th>Positive</th>\n",
       "      <th>Text</th>\n",
       "    </tr>\n",
       "    <tr>\n",
       "      <th>Date</th>\n",
       "      <th></th>\n",
       "      <th></th>\n",
       "      <th></th>\n",
       "      <th></th>\n",
       "      <th></th>\n",
       "    </tr>\n",
       "  </thead>\n",
       "  <tbody>\n",
       "    <tr>\n",
       "      <th>Tue Jul 10 03:50:42 +0000 2018</th>\n",
       "      <td>0.2023</td>\n",
       "      <td>0.924</td>\n",
       "      <td>0.000</td>\n",
       "      <td>0.076</td>\n",
       "      <td>RT @DecentraIizing: $BTCUSD weekly bounced off...</td>\n",
       "    </tr>\n",
       "    <tr>\n",
       "      <th>Tue Jul 10 03:46:27 +0000 2018</th>\n",
       "      <td>-0.1779</td>\n",
       "      <td>0.825</td>\n",
       "      <td>0.175</td>\n",
       "      <td>0.000</td>\n",
       "      <td>So this is it? C'mon, seriously now... $BTCUSD...</td>\n",
       "    </tr>\n",
       "    <tr>\n",
       "      <th>Tue Jul 10 03:45:05 +0000 2018</th>\n",
       "      <td>0.0000</td>\n",
       "      <td>1.000</td>\n",
       "      <td>0.000</td>\n",
       "      <td>0.000</td>\n",
       "      <td>BitMEX BTCUSD funding payout in 15 minutes: 0....</td>\n",
       "    </tr>\n",
       "    <tr>\n",
       "      <th>Tue Jul 10 03:43:37 +0000 2018</th>\n",
       "      <td>0.0772</td>\n",
       "      <td>0.874</td>\n",
       "      <td>0.000</td>\n",
       "      <td>0.126</td>\n",
       "      <td>So this is it? \"I want to believe\" $BTCUSD htt...</td>\n",
       "    </tr>\n",
       "    <tr>\n",
       "      <th>Tue Jul 10 03:43:03 +0000 2018</th>\n",
       "      <td>-0.3182</td>\n",
       "      <td>0.892</td>\n",
       "      <td>0.108</td>\n",
       "      <td>0.000</td>\n",
       "      <td>RT @SamuelPower39: This is why I stick with th...</td>\n",
       "    </tr>\n",
       "  </tbody>\n",
       "</table>\n",
       "</div>"
      ],
      "text/plain": [
       "                                Compound  Negative  Neutral  Positive  \\\n",
       "Date                                                                    \n",
       "Tue Jul 10 03:50:42 +0000 2018    0.2023     0.924    0.000     0.076   \n",
       "Tue Jul 10 03:46:27 +0000 2018   -0.1779     0.825    0.175     0.000   \n",
       "Tue Jul 10 03:45:05 +0000 2018    0.0000     1.000    0.000     0.000   \n",
       "Tue Jul 10 03:43:37 +0000 2018    0.0772     0.874    0.000     0.126   \n",
       "Tue Jul 10 03:43:03 +0000 2018   -0.3182     0.892    0.108     0.000   \n",
       "\n",
       "                                                                             Text  \n",
       "Date                                                                               \n",
       "Tue Jul 10 03:50:42 +0000 2018  RT @DecentraIizing: $BTCUSD weekly bounced off...  \n",
       "Tue Jul 10 03:46:27 +0000 2018  So this is it? C'mon, seriously now... $BTCUSD...  \n",
       "Tue Jul 10 03:45:05 +0000 2018  BitMEX BTCUSD funding payout in 15 minutes: 0....  \n",
       "Tue Jul 10 03:43:37 +0000 2018  So this is it? \"I want to believe\" $BTCUSD htt...  \n",
       "Tue Jul 10 03:43:03 +0000 2018  RT @SamuelPower39: This is why I stick with th...  "
      ]
     },
     "execution_count": 14,
     "metadata": {},
     "output_type": "execute_result"
    }
   ],
   "source": [
    "sentiments_pd = pd.DataFrame(sentiments)\n",
    "sentiments_pd.set_index(['Date'], inplace = True)\n",
    "sentiments_pd.head()"
   ]
  },
  {
   "cell_type": "code",
   "execution_count": 15,
   "metadata": {},
   "outputs": [
    {
     "ename": "NameError",
     "evalue": "name 'btc_prices' is not defined",
     "output_type": "error",
     "traceback": [
      "\u001b[1;31m---------------------------------------------------------------------------\u001b[0m",
      "\u001b[1;31mNameError\u001b[0m                                 Traceback (most recent call last)",
      "\u001b[1;32m<ipython-input-15-9ba4698285ce>\u001b[0m in \u001b[0;36m<module>\u001b[1;34m()\u001b[0m\n\u001b[1;32m----> 1\u001b[1;33m \u001b[0mbtc_prices\u001b[0m\u001b[1;33m\u001b[0m\u001b[0m\n\u001b[0m",
      "\u001b[1;31mNameError\u001b[0m: name 'btc_prices' is not defined"
     ]
    }
   ],
   "source": [
    "btc_prices"
   ]
  },
  {
   "cell_type": "code",
   "execution_count": null,
   "metadata": {},
   "outputs": [],
   "source": []
  }
 ],
 "metadata": {
  "kernelspec": {
   "display_name": "Python 3",
   "language": "python",
   "name": "python3"
  },
  "language_info": {
   "codemirror_mode": {
    "name": "ipython",
    "version": 3
   },
   "file_extension": ".py",
   "mimetype": "text/x-python",
   "name": "python",
   "nbconvert_exporter": "python",
   "pygments_lexer": "ipython3",
   "version": "3.6.5"
  }
 },
 "nbformat": 4,
 "nbformat_minor": 2
}
