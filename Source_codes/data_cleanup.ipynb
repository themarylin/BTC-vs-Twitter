{
 "cells": [
  {
   "cell_type": "markdown",
   "metadata": {},
   "source": [
    "# Cleaning up data to create uniform dataframe"
   ]
  },
  {
   "cell_type": "markdown",
   "metadata": {},
   "source": [
    "## Import Dependencies"
   ]
  },
  {
   "cell_type": "code",
   "execution_count": 1,
   "metadata": {},
   "outputs": [],
   "source": [
    "%matplotlib notebook\n",
    "\n",
    "import matplotlib.pyplot  as plt\n",
    "import pandas as pd\n",
    "import numpy as np\n",
    "import tweepy\n",
    "import json\n",
    "import datetime\n",
    "import time\n",
    "import pprint as pprint\n",
    "import requests\n",
    "import json\n",
    "import sklearn.preprocessing as skl\n",
    "\n",
    "\n",
    "from vaderSentiment.vaderSentiment import SentimentIntensityAnalyzer\n",
    "analyzer = SentimentIntensityAnalyzer()"
   ]
  },
  {
   "cell_type": "markdown",
   "metadata": {},
   "source": [
    "## Read Files into dataframes"
   ]
  },
  {
   "cell_type": "code",
   "execution_count": 7,
   "metadata": {},
   "outputs": [],
   "source": [
    "twitter_file = '../Data_sources/twitter_sentiments.csv'\n",
    "reddit_file = '../Data_sources/reddit_df.csv'\n",
    "bitcoin_file = '../Data_sources/btc_historical.csv'\n",
    "\n",
    "twitter_df = pd.read_csv(twitter_file)\n",
    "reddit_df = pd.read_csv(reddit_file)\n",
    "bitcoin_df = pd.read_csv(bitcoin_file)"
   ]
  },
  {
   "cell_type": "markdown",
   "metadata": {},
   "source": [
    "#### view dataframes"
   ]
  },
  {
   "cell_type": "code",
   "execution_count": 10,
   "metadata": {},
   "outputs": [
    {
     "data": {
      "text/html": [
       "<div>\n",
       "<style scoped>\n",
       "    .dataframe tbody tr th:only-of-type {\n",
       "        vertical-align: middle;\n",
       "    }\n",
       "\n",
       "    .dataframe tbody tr th {\n",
       "        vertical-align: top;\n",
       "    }\n",
       "\n",
       "    .dataframe thead th {\n",
       "        text-align: right;\n",
       "    }\n",
       "</style>\n",
       "<table border=\"1\" class=\"dataframe\">\n",
       "  <thead>\n",
       "    <tr style=\"text-align: right;\">\n",
       "      <th></th>\n",
       "      <th>Date</th>\n",
       "      <th>Open</th>\n",
       "      <th>High</th>\n",
       "      <th>Low</th>\n",
       "      <th>Close</th>\n",
       "      <th>Volume</th>\n",
       "      <th>Change</th>\n",
       "      <th>% Change</th>\n",
       "    </tr>\n",
       "  </thead>\n",
       "  <tbody>\n",
       "    <tr>\n",
       "      <th>0</th>\n",
       "      <td>7/15/2018</td>\n",
       "      <td>NaN</td>\n",
       "      <td>6378.0</td>\n",
       "      <td>6378.0</td>\n",
       "      <td>6362</td>\n",
       "      <td>0</td>\n",
       "      <td>104.94</td>\n",
       "      <td>1.68%</td>\n",
       "    </tr>\n",
       "    <tr>\n",
       "      <th>1</th>\n",
       "      <td>7/14/2018</td>\n",
       "      <td>NaN</td>\n",
       "      <td>6166.0</td>\n",
       "      <td>6166.0</td>\n",
       "      <td>6257</td>\n",
       "      <td>0</td>\n",
       "      <td>52.00</td>\n",
       "      <td>0.84%</td>\n",
       "    </tr>\n",
       "    <tr>\n",
       "      <th>2</th>\n",
       "      <td>7/13/2018</td>\n",
       "      <td>NaN</td>\n",
       "      <td>6166.0</td>\n",
       "      <td>6166.0</td>\n",
       "      <td>6205</td>\n",
       "      <td>0</td>\n",
       "      <td>82.72</td>\n",
       "      <td>1.35%</td>\n",
       "    </tr>\n",
       "    <tr>\n",
       "      <th>3</th>\n",
       "      <td>7/12/2018</td>\n",
       "      <td>NaN</td>\n",
       "      <td>6166.0</td>\n",
       "      <td>6166.0</td>\n",
       "      <td>6122</td>\n",
       "      <td>0</td>\n",
       "      <td>-253.70</td>\n",
       "      <td>-3.98%</td>\n",
       "    </tr>\n",
       "    <tr>\n",
       "      <th>4</th>\n",
       "      <td>7/11/2018</td>\n",
       "      <td>NaN</td>\n",
       "      <td>6368.0</td>\n",
       "      <td>6368.0</td>\n",
       "      <td>6376</td>\n",
       "      <td>0</td>\n",
       "      <td>6.85</td>\n",
       "      <td>0.11%</td>\n",
       "    </tr>\n",
       "  </tbody>\n",
       "</table>\n",
       "</div>"
      ],
      "text/plain": [
       "        Date  Open    High     Low  Close  Volume  Change % Change\n",
       "0  7/15/2018   NaN  6378.0  6378.0   6362       0  104.94    1.68%\n",
       "1  7/14/2018   NaN  6166.0  6166.0   6257       0   52.00    0.84%\n",
       "2  7/13/2018   NaN  6166.0  6166.0   6205       0   82.72    1.35%\n",
       "3  7/12/2018   NaN  6166.0  6166.0   6122       0 -253.70   -3.98%\n",
       "4  7/11/2018   NaN  6368.0  6368.0   6376       0    6.85    0.11%"
      ]
     },
     "execution_count": 10,
     "metadata": {},
     "output_type": "execute_result"
    }
   ],
   "source": [
    "bitcoin_df.head()"
   ]
  },
  {
   "cell_type": "code",
   "execution_count": null,
   "metadata": {},
   "outputs": [],
   "source": []
  }
 ],
 "metadata": {
  "kernelspec": {
   "display_name": "Python 3",
   "language": "python",
   "name": "python3"
  },
  "language_info": {
   "codemirror_mode": {
    "name": "ipython",
    "version": 3
   },
   "file_extension": ".py",
   "mimetype": "text/x-python",
   "name": "python",
   "nbconvert_exporter": "python",
   "pygments_lexer": "ipython3",
   "version": "3.6.5"
  }
 },
 "nbformat": 4,
 "nbformat_minor": 2
}
